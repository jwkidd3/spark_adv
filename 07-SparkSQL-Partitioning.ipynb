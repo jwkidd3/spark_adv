{
 "cells": [
  {
   "cell_type": "markdown",
   "metadata": {},
   "source": [
    "# SparkSQL Partitioning"
   ]
  },
  {
   "cell_type": "markdown",
   "metadata": {},
   "source": [
    "Load flightsdata.json file into HDFS from **data** folder"
   ]
  },
  {
   "cell_type": "code",
   "execution_count": null,
   "metadata": {},
   "outputs": [],
   "source": [
    "hdfs dfs -put ~/spark_training/data/flightsdata.json data/"
   ]
  },
  {
   "cell_type": "markdown",
   "metadata": {},
   "source": [
    "## Perform below steps -\n",
    "\n",
    "**Step 1:** Read flightsdata.json data with schema as provided above\n",
    "\n",
    "**Step 2:** Print the Schema of the Dataset recently created\n",
    "\n",
    "**Step 3:** Rename columns of above Dataset from \n",
    "\n",
    "* _id to id\n",
    "* origin to src\n",
    "* dest to dst\n",
    "* depdelay to delay\n",
    "\n",
    "**Step 4:** Show the new Dataset\n",
    "\n",
    "**Step 5:** Write this Dataset in Flights table partitioned by src column in parquet format. The data should be stored in data/flights HDFS directory.\n",
    "\n",
    "**Step 6:** Reads only the files in the src=DEN partition directory in order to query the average departure delay for flights originating from Denver."
   ]
  },
  {
   "cell_type": "markdown",
   "metadata": {},
   "source": [
    "## End of Exercise"
   ]
  }
 ],
 "metadata": {
  "kernelspec": {
   "display_name": "Python 3",
   "language": "python",
   "name": "python3"
  },
  "language_info": {
   "codemirror_mode": {
    "name": "ipython",
    "version": 3
   },
   "file_extension": ".py",
   "mimetype": "text/x-python",
   "name": "python",
   "nbconvert_exporter": "python",
   "pygments_lexer": "ipython3",
   "version": "3.8.5"
  }
 },
 "nbformat": 4,
 "nbformat_minor": 4
}
